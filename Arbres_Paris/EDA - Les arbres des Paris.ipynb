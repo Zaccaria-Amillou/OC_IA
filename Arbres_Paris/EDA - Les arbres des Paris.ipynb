{
 "cells": [
  {
   "cell_type": "markdown",
   "source": [
    "### Les arbres de Paris\n",
    "#### Contexte\n",
    "Dans ce projet, on va réaliser une analyse exploratoire des données sur une dataset à propos des arbres de la ville de Paris dans le cadre du programme \"Végétalisons la ville\".\n",
    "\n",
    "**On cherche à optimiser les tournées pour l'entretien des arbres.**\n",
    "\n",
    "Pour faire cela, on va **idéntifier les caractéristiques des arbres**, et ce qui les différencie et donc comment ils sont répartis dans la ville."
   ],
   "metadata": {
    "collapsed": false
   },
   "id": "183e958e7e89555a"
  },
  {
   "cell_type": "markdown",
   "source": [
    "### Import libraries"
   ],
   "metadata": {
    "collapsed": false
   },
   "id": "c90f8b6c309e06e6"
  },
  {
   "cell_type": "code",
   "outputs": [],
   "source": [
    "import pandas as pd\n",
    "import numpy as np\n",
    "import matplotlib.pyplot as plt\n",
    "import seaborn as sns\n",
    "import plotly.express as px\n",
    "\n",
    "import warnings\n",
    "warnings.filterwarnings(\"ignore\")"
   ],
   "metadata": {
    "collapsed": false
   },
   "id": "ed933ea50a40844a",
   "execution_count": null
  },
  {
   "cell_type": "markdown",
   "source": [
    "### Import fichiers"
   ],
   "metadata": {
    "collapsed": false
   },
   "id": "3d44defa16544492"
  },
  {
   "cell_type": "code",
   "outputs": [],
   "source": [
    "# import fichiers arbres\n",
    "data = pd.read_csv(\"../p2-arbres-fr.csv\", sep=\";\")"
   ],
   "metadata": {
    "collapsed": false
   },
   "id": "61bb76c6dcacd68d",
   "execution_count": null
  },
  {
   "cell_type": "code",
   "outputs": [],
   "source": [
    "# affichage df\n",
    "display(data.head(3))"
   ],
   "metadata": {
    "collapsed": false
   },
   "id": "7753de813d775efc",
   "execution_count": null
  },
  {
   "cell_type": "markdown",
   "source": [
    "### Analyse du DF"
   ],
   "metadata": {
    "collapsed": false
   },
   "id": "e00539a7ae413eab"
  },
  {
   "cell_type": "code",
   "outputs": [],
   "source": [
    "# contrôle dimensions dataframe\n",
    "print(\"Le Dataframe contient \", data.shape[0], \"lignes et \", data.shape[1], \" colonnes\")"
   ],
   "metadata": {
    "collapsed": false
   },
   "id": "4929b3cec3b76e68",
   "execution_count": null
  },
  {
   "cell_type": "code",
   "outputs": [],
   "source": [
    "# contrôle types des données\n",
    "data.dtypes"
   ],
   "metadata": {
    "collapsed": false
   },
   "id": "c52b4740fa4bb672",
   "execution_count": null
  },
  {
   "cell_type": "code",
   "outputs": [],
   "source": [
    "# contrôle valeurs nulles en pourcentage dans chaque colonne différentes de 0\n",
    "list_col = []\n",
    "null_percentages = []"
   ],
   "metadata": {
    "collapsed": false
   },
   "id": "5d06a3a7108ffeab",
   "execution_count": null
  },
  {
   "cell_type": "code",
   "outputs": [],
   "source": [
    "for columnName in data:\n",
    "    null_percentage = (data[columnName].isnull().sum() * 100 / data.shape[0])\n",
    "    if null_percentage != 0:\n",
    "        list_col.append(columnName)\n",
    "        null_percentages.append(round(null_percentage, 2))"
   ],
   "metadata": {
    "collapsed": false
   },
   "id": "ef0fe9ec94258399",
   "execution_count": null
  },
  {
   "cell_type": "code",
   "outputs": [],
   "source": [
    "# Création df\n",
    "null_df = pd.DataFrame({\n",
    "    'Colonne': list_col,\n",
    "    'Pourcentages valeurs nulles': null_percentages\n",
    "})"
   ],
   "metadata": {
    "collapsed": false
   },
   "id": "c448da592e214c8a",
   "execution_count": null
  },
  {
   "cell_type": "code",
   "outputs": [],
   "source": [
    "# affichage\n",
    "display(null_df)"
   ],
   "metadata": {
    "collapsed": false
   },
   "id": "c9bde5eb1ba327f0",
   "execution_count": null
  },
  {
   "cell_type": "markdown",
   "source": [
    "On analyse maintenant les colonnes qui ont retourné des valeurs nulles\n",
    "- **La colonne ``Domanialité``, ``genre``**: contient très peu des valeurs nulles, donc on vas dropper les valeurs nulles.\n",
    "- Les colonnes libelle_francais, espece et autre** : pour ces colonnes on vas ajouter la catégorie \"Autre\" pour les arbres qui ne sont pas indiqué\n",
    "- **Les colonnes ``complement adresse`` et ``numero``**: indiquent des spécifications à propos des adresses, mais vues qu' on a déjà des colonnes avec latitude et longitudes des arbres on aura pas besoin de ces colonnes.\n",
    "- **La colonne ``remarquable``** contient des valeurs booléens, on va alors mettre un 0 pour les arbres qui n' ont pas d' indication.\n",
    "- **La colonne ``stade_developpement``** : Pour cette colonne on vas ajouter le valeur \"À mesurer\""
   ],
   "metadata": {
    "collapsed": false
   },
   "id": "d9b37772aa3aa688"
  },
  {
   "cell_type": "code",
   "outputs": [],
   "source": [
    "# copie du df\n",
    "df = data.copy()"
   ],
   "metadata": {
    "collapsed": false
   },
   "id": "21f039f1a7767bd9",
   "execution_count": null
  },
  {
   "cell_type": "code",
   "outputs": [],
   "source": [
    "# drop colonne numero\n",
    "df.drop(columns=[\"numero\",\"complement_addresse\"], inplace=True)"
   ],
   "metadata": {
    "collapsed": false
   },
   "id": "2ecafba2d18559b1",
   "execution_count": null
  },
  {
   "cell_type": "code",
   "outputs": [],
   "source": [
    "# Traitement valeur NaN dans la colonne Dominialite\n",
    "df.dropna(subset = [\"domanialite\"], inplace=True)"
   ],
   "metadata": {
    "collapsed": false
   },
   "id": "645821b9fd425ef8",
   "execution_count": null
  },
  {
   "cell_type": "code",
   "outputs": [],
   "source": [
    "# Traitement valeur NaN dans la colonne genre\n",
    "df.dropna(subset = [\"genre\"], inplace=True)"
   ],
   "metadata": {
    "collapsed": false
   },
   "id": "d4b02d57fcb9039",
   "execution_count": null
  },
  {
   "cell_type": "code",
   "outputs": [],
   "source": [
    "# Traitement valeur NaN dans la colonne libelle francais\n",
    "df['libelle_francais'] = df['libelle_francais'].fillna(\"autre\")\n",
    "df['espece'] = df['espece'].fillna(\"autre\")\n",
    "df['variete'] = df['variete'].fillna(\"autre\")"
   ],
   "metadata": {
    "collapsed": false
   },
   "id": "54a25c67e53fc8ef",
   "execution_count": null
  },
  {
   "cell_type": "code",
   "outputs": [],
   "source": [
    "#Traitement valeur NaN dans la colonne remarquable\n",
    "df['remarquable'] = df['remarquable'].fillna(0)"
   ],
   "metadata": {
    "collapsed": false
   },
   "id": "129254c8898dfb48",
   "execution_count": null
  },
  {
   "cell_type": "code",
   "outputs": [],
   "source": [
    "#Traitement valeur NaN dans la colonne stade developpement\n",
    "df['stade_developpement'] = df['stade_developpement'].fillna('A mesurer')"
   ],
   "metadata": {
    "collapsed": false
   },
   "id": "f858ea2c49142fac",
   "execution_count": null
  },
  {
   "cell_type": "code",
   "outputs": [],
   "source": [
    "# contrôle valeurs nulles\n",
    "print('il y à ',df.isnull().sum().sum(),  'valeurs nulles')"
   ],
   "metadata": {
    "collapsed": false
   },
   "id": "f7a63b9f4c34563",
   "execution_count": null
  },
  {
   "cell_type": "markdown",
   "source": [
    "Maintenant on va calculer la moyenne, la médiane et l'écart type pour certaines colonnes.\n",
    "Dans ce cas, on va exclure les colonnes pour lesquelles ce calcul n'aura pas d'intérêt, en créant un subset."
   ],
   "metadata": {
    "collapsed": false
   },
   "id": "fadaec79f5b5115c"
  },
  {
   "cell_type": "code",
   "outputs": [],
   "source": [
    "# Création subset pour exclure des colonnes\n",
    "subsetColumns = df.loc[:, ~df.columns.isin([\"id\",\"remarquable\",\"geo_point_2d_a\",\"geo_point_2d_b\"])]"
   ],
   "metadata": {
    "collapsed": false
   },
   "id": "404fa1c54984c8f1",
   "execution_count": null
  },
  {
   "cell_type": "code",
   "outputs": [],
   "source": [
    "# init listes\n",
    "column_names = []\n",
    "means = []\n",
    "medians = []\n",
    "std_devs = []"
   ],
   "metadata": {
    "collapsed": false
   },
   "id": "444ae6b6f7f67ce8",
   "execution_count": null
  },
  {
   "cell_type": "code",
   "outputs": [],
   "source": [
    "for columnName in subsetColumns:\n",
    "    if subsetColumns[columnName].dtype != object:\n",
    "        column_names.append(columnName)\n",
    "        means.append(data[columnName].mean())\n",
    "        medians.append(data[columnName].median())\n",
    "        std_devs.append(data[columnName].std())"
   ],
   "metadata": {
    "collapsed": false
   },
   "id": "91530b6f59f8151a",
   "execution_count": null
  },
  {
   "cell_type": "code",
   "outputs": [],
   "source": [
    "# Creation dataframe\n",
    "summary_df = pd.DataFrame({\n",
    "    'colonne': column_names,\n",
    "    'moyenne': means,\n",
    "    'mediane': medians,\n",
    "    'écart-type': std_devs\n",
    "})"
   ],
   "metadata": {
    "collapsed": false
   },
   "id": "77dd62fe3ceaff8e",
   "execution_count": null
  },
  {
   "cell_type": "code",
   "outputs": [],
   "source": [
    "display(summary_df)"
   ],
   "metadata": {
    "collapsed": false
   },
   "id": "409ccfd00b1f8109",
   "execution_count": null
  },
  {
   "cell_type": "markdown",
   "source": [
    "### Récherche outliers\n",
    "Maintenant on va identifier les outliers en utilisant deux méthodes:\n",
    "1. On vas afficher les valeurs max et min pour la hauteur et la circonférence pour observer le comportement des données\n",
    "2. On vas utiliser la méthode des quantiles pour détecter les outliers"
   ],
   "metadata": {
    "collapsed": false
   },
   "id": "9b3ee5ad65ba3889"
  },
  {
   "cell_type": "code",
   "outputs": [],
   "source": [
    "# creation subset pour rendre plus lisibles les résultats\n",
    "subset_df = df[['id', 'libelle_francais', 'circonference_cm', 'hauteur_m']].copy()"
   ],
   "metadata": {
    "collapsed": false
   },
   "id": "b55887b233933c10",
   "execution_count": null
  },
  {
   "cell_type": "code",
   "outputs": [],
   "source": [
    "# création variables pour stocker valeurs min et max de la circonference\n",
    "min_circ = subset_df.sort_values(by=\"circonference_cm\").head(5)\n",
    "max_circ = subset_df.sort_values(by=\"circonference_cm\", ascending=False).head(5)"
   ],
   "metadata": {
    "collapsed": false
   },
   "id": "2a113339b7dd2d19",
   "execution_count": null
  },
  {
   "cell_type": "code",
   "outputs": [],
   "source": [
    "# affichage df\n",
    "display(min_circ)"
   ],
   "metadata": {
    "collapsed": false
   },
   "id": "483d7c5e42dcce4a",
   "execution_count": null
  },
  {
   "cell_type": "markdown",
   "source": [
    "Présence de certains arbres avec une circonférence qui équivaut à 0 cm"
   ],
   "metadata": {
    "collapsed": false
   },
   "id": "6a5f1e9fb80ccc36"
  },
  {
   "cell_type": "code",
   "outputs": [],
   "source": [
    "# affichage df\n",
    "display(max_circ)"
   ],
   "metadata": {
    "collapsed": false
   },
   "id": "2e2d57c7f341cfec",
   "execution_count": null
  },
  {
   "cell_type": "markdown",
   "source": [
    "Présence de certains arbres avec une circonférence qui équivaut à des valeurs trop hautes pour être considéré comme possibles."
   ],
   "metadata": {
    "collapsed": false
   },
   "id": "bce42f802995733e"
  },
  {
   "cell_type": "code",
   "outputs": [],
   "source": [
    "# création variables pour stocker valeurs min et max de la circonference\n",
    "min_haut = subset_df.sort_values(by=\"hauteur_m\").head(5)\n",
    "max_haut = subset_df.sort_values(by=\"hauteur_m\", ascending=False).head(5)"
   ],
   "metadata": {
    "collapsed": false
   },
   "id": "9db561a84c2993c6",
   "execution_count": null
  },
  {
   "cell_type": "code",
   "outputs": [],
   "source": [
    "# affichage df\n",
    "display(max_haut)"
   ],
   "metadata": {
    "collapsed": false
   },
   "id": "e2821ab1faebc690",
   "execution_count": null
  },
  {
   "cell_type": "code",
   "outputs": [],
   "source": [
    "# affichage df\n",
    "display(min_haut)"
   ],
   "metadata": {
    "collapsed": false
   },
   "id": "44177b4dda5eec0e",
   "execution_count": null
  },
  {
   "cell_type": "markdown",
   "source": [
    " Création d'une fonction pour mettre en pratique la méthode interquartile pour détecter des outliers et donc on vas procéder avec la création d'une autre data frame ou on vas enlever ces dernier"
   ],
   "metadata": {
    "collapsed": false
   },
   "id": "ef3423ecb95f3b72"
  },
  {
   "cell_type": "code",
   "outputs": [],
   "source": [
    "# méthode pour calculer IQR\n",
    "def outlier_IQR (colonne):\n",
    "    # calcul Quartile 1 et 3\n",
    "    Q1,Q3 = np.percentile(colonne , [25,75])\n",
    "    # calcul intervalle interquartile\n",
    "    IQR = Q3 - Q1\n",
    "    # limit superieure\n",
    "    ls = Q3+1.5*IQR\n",
    "    # limit inferieure\n",
    "    li = Q1-1.5*IQR\n",
    "    outliers = colonne[(colonne > ls) | (colonne < li)]\n",
    "    return outliers"
   ],
   "metadata": {
    "collapsed": false
   },
   "id": "4c48ac753779a6f8",
   "execution_count": null
  },
  {
   "cell_type": "code",
   "outputs": [],
   "source": [
    "# Création outlier\n",
    "outlier_circ = outlier_IQR (df[\"circonference_cm\"])\n",
    "outlier_haut = outlier_IQR (df[\"hauteur_m\"])"
   ],
   "metadata": {
    "collapsed": false
   },
   "id": "b2edbe7da6a73840",
   "execution_count": null
  },
  {
   "cell_type": "code",
   "outputs": [],
   "source": [
    "# Création dataframe temp\n",
    "df1 = df.copy()"
   ],
   "metadata": {
    "collapsed": false
   },
   "id": "7269b653b4b7cab4",
   "execution_count": null
  },
  {
   "cell_type": "code",
   "outputs": [],
   "source": [
    "# Supprimer outliers\n",
    "df1 = df1[~df1[\"circonference_cm\"].isin(outlier_circ)]\n",
    "df1 = df1[~df1[\"hauteur_m\"].isin(outlier_haut)]"
   ],
   "metadata": {
    "collapsed": false
   },
   "id": "d89afe34010860e7",
   "execution_count": null
  },
  {
   "cell_type": "markdown",
   "source": [
    "### Quelles sont les caracteristiques arbres?"
   ],
   "metadata": {
    "collapsed": false
   },
   "id": "a9864ab24930d13c"
  },
  {
   "cell_type": "code",
   "outputs": [],
   "source": [
    "# affichage graphique \"circonference_cm\"\n",
    "sns.boxplot(data=df1, x=\"circonference_cm\",\n",
    "            palette='Paired')\n",
    "plt.title(\"Boxplot Circonference en cm\")\n",
    "plt.show()"
   ],
   "metadata": {
    "collapsed": false
   },
   "id": "459a3595234d00df",
   "execution_count": null
  },
  {
   "cell_type": "markdown",
   "source": [
    "On voit que la concentration des données est entre 45 et 110 cm de circonférence.\n",
    "Le boxplot se concentre vers le bas, et on observe des arbres qui peuvent arriver aussi a 200 cm de circonférence mais ils sont plus rares."
   ],
   "metadata": {
    "collapsed": false
   },
   "id": "48ecf0079070606b"
  },
  {
   "cell_type": "code",
   "outputs": [],
   "source": [
    "# affichage graphique \"hauter_m\"\n",
    "sns.boxplot(df1, x=\"hauteur_m\",\n",
    "            palette='Paired')\n",
    "            \n",
    "plt.title(\"Boxplot hauteur en metres\")\n",
    "\n",
    "plt.show()"
   ],
   "metadata": {
    "collapsed": false
   },
   "id": "44b1f5ac065e73b7",
   "execution_count": null
  },
  {
   "cell_type": "markdown",
   "source": [
    "On observe que les arbres se concentrent en général entre 4 et 13 mètres.\n",
    "On voit que le boxplot se concentre plutôt vers le bas, mais il y a des arbres qui sont plus rares, qui peuvent arriver jusqu'à 22 mètres de hauteur."
   ],
   "metadata": {
    "collapsed": false
   },
   "id": "52c4c7bcfcd59d1e"
  },
  {
   "cell_type": "markdown",
   "source": [
    "Maintenant on va observer la dispersion des données dans une scatterplot, en mettant en évidence le stade de développement des arbres.\n",
    "Tout d'abord on va changer les noms des étiquettes des arbres pour qu' ils soient plus clairs, et donc on procède avec la représentation graphique."
   ],
   "metadata": {
    "collapsed": false
   },
   "id": "ee9aa40cd1e59c26"
  },
  {
   "cell_type": "code",
   "outputs": [],
   "source": [
    "# changer valeurs dans le dataframe\n",
    "df1 = df1.replace(['A'], 'Adulte')\n",
    "df1 = df1.replace(['J'], 'Jeune')\n",
    "df1 = df1.replace(['JA'], 'Jeune Adulte')\n",
    "df1 = df1.replace(['M'], 'Mature')\n",
    "    "
   ],
   "metadata": {
    "collapsed": false
   },
   "id": "435eba525ff355f",
   "execution_count": null
  },
  {
   "cell_type": "code",
   "outputs": [],
   "source": [
    "# création graphique et affichage\n",
    "sns.scatterplot(data=df1, \n",
    "                x='circonference_cm', \n",
    "                y='hauteur_m', \n",
    "                hue='stade_developpement')\n",
    "plt.legend(\n",
    "    bbox_to_anchor=(1.05, 1), \n",
    "    loc='upper left', \n",
    "    borderaxespad=0)\n",
    "plt.title(\n",
    "    \"Graphique à dispersion pour comparer hauteur et circonference entre stades de développement\")\n",
    "plt.xlabel(\"Circonference en CM\")\n",
    "plt.ylabel(\"Hauteur en metres\")\n",
    "plt.show()"
   ],
   "metadata": {
    "collapsed": false
   },
   "id": "1ca83689937fe7a1",
   "execution_count": null
  },
  {
   "cell_type": "markdown",
   "source": [
    "On peut identifier diverses caractéristiques.\n",
    "- Les arbres jeunes : tends a ce concentrer dans la part plus bas du graphique en générale et donc on voit qu' ils sont plus petit et avec un circonference plus petit\n",
    "- Les arbres jeunes adulte: sont plutôt concentré vers la gauche du graphique, mais il commencent à varier un peu plus en hauteur probablement en relation â l'espèce d'arbres\n",
    "- Les arbres adulte : sont les arbres les plus répandus dans le graphique et nous donnent un idée de la variation entre circonférence et hauteur, en relation à l' espèce très variées des arbres\n",
    "- Les arbres mature : sont les arbres que se concentrent plus vers la droite, et ici, on voit qu' ils ont une circonférence plus importante et aussi ils sont les arbres tendanciellement plus hautes.\n",
    "\n",
    "Maintenant on vas essayer des confirmer ces observation en observant des plus prés le comportement des données avec des boxplot divisé par stade de développement"
   ],
   "metadata": {
    "collapsed": false
   },
   "id": "76317b33cf1cae73"
  },
  {
   "cell_type": "code",
   "outputs": [],
   "source": [
    "# création graphique et affichage\n",
    "sns.boxplot(data=df1, \n",
    "            x=\"stade_developpement\",\n",
    "            y=\"circonference_cm\",\n",
    "            order=['Jeune','Jeune Adulte','Adulte','Mature'],\n",
    "            hue='stade_developpement',\n",
    "            palette='Paired'),\n",
    "            \n",
    "plt.title(\n",
    "    \"Comparaison des boxplots des circonferences en cm par stade de développement\")\n",
    "plt.xlabel(\"Stade de développement\")\n",
    "plt.ylabel(\"Circonference en cm\")\n",
    "plt.show()"
   ],
   "metadata": {
    "collapsed": false
   },
   "id": "9194541d10ae7a7f",
   "execution_count": null
  },
  {
   "cell_type": "code",
   "outputs": [],
   "source": [
    "# création graphique et affichage\n",
    "bplot = sns.boxplot(data=df1, x=\"stade_developpement\", y=\"hauteur_m\", order=['Jeune','Jeune Adulte','Adulte','Mature'],hue='stade_developpement', palette='Paired')\n",
    "plt.title(\"Comparaison des boxplots des hauteurs en metres par stade de développement\")\n",
    "plt.xlabel(\"Stade de développement\")\n",
    "plt.ylabel(\"Hauter en metres\")\n",
    "plt.show()"
   ],
   "metadata": {
    "collapsed": false
   },
   "id": "7143e9c98058b8c",
   "execution_count": null
  },
  {
   "cell_type": "markdown",
   "source": [
    "### Quelle typologie des arbres?\n",
    "Quels sont les typologies des arbres les plus répandues à Paris selon le dataset mis à disposition ? "
   ],
   "metadata": {
    "collapsed": false
   },
   "id": "7759b3854394e7ed"
  },
  {
   "cell_type": "code",
   "outputs": [],
   "source": [
    "# counts des valeurs dans le dataframe\n",
    "counts = df1[\"libelle_francais\"].value_counts()"
   ],
   "metadata": {
    "collapsed": false
   },
   "id": "fbb276630b04b3dc",
   "execution_count": null
  },
  {
   "cell_type": "code",
   "outputs": [],
   "source": [
    "# Création graphique\n",
    "fig = px.pie(counts, names=counts.index, values=counts.values, title=\"Camembert typologie arbres\")\n",
    "fig.update_traces(textposition=\"inside\", textinfo=\"percent+label\")\n",
    "fig.show()"
   ],
   "metadata": {
    "collapsed": false
   },
   "id": "47e6e4a467930e6a",
   "execution_count": null
  },
  {
   "cell_type": "markdown",
   "source": [
    "Le platane est l'arbre plus répandu avec un 20,3% ($9423$) du total, et puis suivent le Marronnier avec 12,3% ($23953$) et le Tilleul avec 10,9% ($21152$)"
   ],
   "metadata": {
    "collapsed": false
   },
   "id": "c74562fcc7ef722d"
  },
  {
   "cell_type": "markdown",
   "source": [
    "### Ou se trouvent les arbres?\n",
    "Affichage des numéros des arbres par arrondissements"
   ],
   "metadata": {
    "collapsed": false
   },
   "id": "546b09672eefb8ac"
  },
  {
   "cell_type": "code",
   "outputs": [],
   "source": [
    "# création barplot pour déterminer quelles sont les arrondissemnt\n",
    "df1[\"arrondissement\"].value_counts().plot(kind = 'barh')\n",
    "plt.title(\"Distribution arbres par arrondissement\")\n",
    "plt.ylabel(\"Arrondissements\")\n",
    "plt.xlabel(\"Arbres\")\n",
    "plt.show()"
   ],
   "metadata": {
    "collapsed": false
   },
   "id": "87b14d9076e69de5",
   "execution_count": null
  },
  {
   "cell_type": "markdown",
   "source": [],
   "metadata": {
    "collapsed": false
   },
   "id": "86bed2e04106a135"
  },
  {
   "cell_type": "markdown",
   "source": [
    "On voit que les arrondissements avec la concentration majeure des arbres sont le 15eme, le 13eme et le 16eme"
   ],
   "metadata": {
    "collapsed": false
   },
   "id": "12456c444b2301d0"
  },
  {
   "cell_type": "code",
   "outputs": [],
   "source": [
    "# Affichage des arbres dans un carte par stade de dévelopement\n",
    "fig = px.scatter_mapbox(df1,\n",
    "                        lat='geo_point_2d_a', lon='geo_point_2d_b',\n",
    "                        hover_data=['circonference_cm', 'hauteur_m', 'arrondissement'],\n",
    "                        color = 'stade_developpement',\n",
    "                        zoom=11,\n",
    "                        mapbox_style=\"stamen-terrain\",\n",
    "                        title=\"carte des arbres par stade de developpement\",\n",
    "                        width=800,\n",
    "                        height=500,\n",
    "                        )\n",
    "fig.show()"
   ],
   "metadata": {
    "collapsed": false
   },
   "id": "431cbf9608547208",
   "execution_count": null
  },
  {
   "cell_type": "markdown",
   "source": [
    "Dans cette carte on peut observer la localisation des arbres par leur stade de développement, et on peut surtout localiser les arbres plus matures qui auront besoin de manutention, et donc descendre dans la hiérarchie pour afficher les autres arbres au fur et mesure des besoins."
   ],
   "metadata": {
    "collapsed": false
   },
   "id": "a22c805b7bbb8e3b"
  },
  {
   "cell_type": "code",
   "outputs": [],
   "source": [
    "# création barplot pour déterminer quelles sont les arrondissemnt\n",
    "df1[\"stade_developpement\"].value_counts().plot(kind = 'barh')\n",
    "plt.ylabel(\"Stade développement\")\n",
    "plt.xlabel(\"Arbres\")\n",
    "plt.title(\"Numero des arbres par stade de développement\")\n",
    "plt.show()"
   ],
   "metadata": {
    "collapsed": false
   },
   "id": "b863c40c6d91b496",
   "execution_count": null
  },
  {
   "cell_type": "markdown",
   "source": [],
   "metadata": {
    "collapsed": false
   },
   "id": "f2a16ff08b44f073"
  },
  {
   "cell_type": "markdown",
   "source": [
    "On observe la présence de beaucoup d’arbres pour lesquels le stade de développement reste à mesurer, et si on pourra le faire nous permettra de mieux cibler les arbres par âge, et donc mieux optimiser leur maintenance"
   ],
   "metadata": {
    "collapsed": false
   },
   "id": "52ab0d1d3c4ed883"
  },
  {
   "cell_type": "code",
   "outputs": [],
   "source": [
    "# Affichage des arbres dans une carte par genre\n",
    "fig = px.scatter_mapbox(df1,\n",
    "                        lat='geo_point_2d_a', lon='geo_point_2d_b',\n",
    "                        hover_data=['circonference_cm', 'hauteur_m', 'arrondissement'],\n",
    "                        color = 'libelle_francais',\n",
    "                        zoom=11,\n",
    "                        mapbox_style=\"stamen-terrain\",\n",
    "                        title=\"carte des arbres par typologie d'arbre\",\n",
    "                        width=800,\n",
    "                        height=500,\n",
    "                        )\n",
    "fig.show()"
   ],
   "metadata": {
    "collapsed": false
   },
   "id": "92d6b5dfff6871de",
   "execution_count": null
  },
  {
   "cell_type": "markdown",
   "source": [
    "Avec une légende des typologies des entretiens en fonction du stade de développement et de la typologie des arbres, on pourra croiser les deux graphiques créés pour optimiser les routes suivies pour effectuer les opérations de manutention."
   ],
   "metadata": {
    "collapsed": false
   },
   "id": "9bdbdaa037af494"
  },
  {
   "cell_type": "code",
   "outputs": [],
   "source": [],
   "metadata": {
    "collapsed": false
   },
   "id": "18ca90c36d140232"
  }
 ],
 "metadata": {
  "kernelspec": {
   "display_name": "Python 3",
   "language": "python",
   "name": "python3"
  },
  "language_info": {
   "codemirror_mode": {
    "name": "ipython",
    "version": 2
   },
   "file_extension": ".py",
   "mimetype": "text/x-python",
   "name": "python",
   "nbconvert_exporter": "python",
   "pygments_lexer": "ipython2",
   "version": "2.7.6"
  }
 },
 "nbformat": 4,
 "nbformat_minor": 5
}
