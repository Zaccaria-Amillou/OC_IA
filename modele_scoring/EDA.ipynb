{
 "cells": [
  {
   "cell_type": "markdown",
   "source": [
    "## Projet 4 - Prét a dépénser\n",
    "Construction d'une modèle de scoring pour établir si un client peut rembourser ou pas une dette."
   ],
   "metadata": {
    "collapsed": false
   },
   "id": "afd680a2d04423ba"
  },
  {
   "cell_type": "markdown",
   "source": [
    "Prét à dépenser, une entreprise qui s'occupe des préts pour les particuliers, veut mettre en place une **algorithme de classification** pour aider à décider si un prêt peut-être ou pas accordé à un client.\n",
    "Pour construire ce modèle nous avons divers fichiers avec notamment :\n",
    "- un historique des prêts\n",
    "- un historique d'informations financières\n",
    "- des informations sur le comportement des emprunteurs."
   ],
   "metadata": {
    "collapsed": false
   },
   "id": "27a326ecda3f4cc6"
  },
  {
   "cell_type": "markdown",
   "source": [],
   "metadata": {
    "collapsed": false
   },
   "id": "a3119825185f1591"
  },
  {
   "cell_type": "markdown",
   "source": [
    "### Import des libraries"
   ],
   "metadata": {
    "collapsed": false
   },
   "id": "b1c22531562a3775"
  },
  {
   "cell_type": "code",
   "outputs": [],
   "source": [
    "# import libraries\n",
    "import numpy as np\n",
    "import pandas as pd\n",
    "\n",
    "from matplotlib import pyplot as plt\n",
    "from plotly import express as px\n",
    "import seaborn as sns\n",
    "\n",
    "from sklearn.preprocessing import LabelEncoder"
   ],
   "metadata": {
    "collapsed": false
   },
   "id": "d07cb5fe15bc3431",
   "execution_count": null
  },
  {
   "cell_type": "markdown",
   "source": [
    "### Functions\n"
   ],
   "metadata": {
    "collapsed": false
   },
   "id": "3fa9f3832cf12151"
  },
  {
   "cell_type": "code",
   "outputs": [],
   "source": [
    "\n",
    "def show_type(data, type):\n",
    "    ''' fonction pour afficher les nom de colonnes de type selectionnees \n",
    "    Args:\n",
    "        data: dataframe\n",
    "        type: type de la colonne à afficher\n",
    "    '''\n",
    "    \n",
    "    obj_col = []\n",
    "    for columnName in data.columns:\n",
    "        if data[columnName].dtype == type:\n",
    "            obj_col.append(columnName)\n",
    "\n",
    "    # creation d'une df pour stocker les info        \n",
    "    type_df = pd.DataFrame(obj_col, columns = [\"Colonne\"])\n",
    "\n",
    "    # création d'une colonne pour stocker le nombre de valeurs unique dans chaque colonne\n",
    "    type_df[\"Valeurs unique\"] = type_df[\"Colonne\"].apply(lambda col: data[col].nunique())\n",
    "\n",
    "    print(type_df)"
   ],
   "metadata": {
    "collapsed": false
   },
   "id": "389b96caa0535242",
   "execution_count": null
  },
  {
   "cell_type": "code",
   "outputs": [],
   "source": [
    "def plot_nan(data):\n",
    "    '''Création d'une barplot des valeurs nulles pour chaque colonne\n",
    "    Args:\n",
    "         data: dataframe\n",
    "    '''\n",
    "    \n",
    "    nan_columns = pd.DataFrame({col:{\n",
    "        # calculs de nombre valeurs nulles totales\n",
    "        'count' : data[col].isna().sum(),\n",
    "        # calcul de la pourcentage des valeurs nulles dans la colonne\n",
    "        'pourc': (data[col].isna().sum()/data.shape[0])*100} for col in data.columns}).transpose()\n",
    "\n",
    "    # affichage du graphique\n",
    "    fig = px.bar(nan_columns, color='count', y='pourc',hover_data=['count'],\n",
    "                 labels=dict(index = 'Colonnes', pourc='Pourcentages valeurs Nan'),\n",
    "                 title='Pourcentages des valeurs nulles dans le df',\n",
    "                 width=1000,\n",
    "                 height=800)\n",
    "    # ordre des colonnes de plus petit au plus grand nombre des valeurs nulles\n",
    "    fig.update_layout(xaxis={'categoryorder': 'total ascending'})\n",
    "    fig.show()"
   ],
   "metadata": {
    "collapsed": false
   },
   "id": "113b3a563365ce15",
   "execution_count": null
  },
  {
   "cell_type": "code",
   "outputs": [],
   "source": [
    "def pourcentage_nan (data):\n",
    "    '''afficher la pourcentage des valeurs nulles par colonne\n",
    "    Args:\n",
    "        data: dataframe\n",
    "    '''\n",
    "\n",
    "    # calcul du total des valeurs manquantes\n",
    "    total_nan_values = data.isna().sum().sum()\n",
    "    # calcul du nomobre total des valeurs dans le df\n",
    "    total_values = data.size\n",
    "    # calcul de la pourcentage\n",
    "    pourcentage_vn = round((total_nan_values/total_values)*100,2)\n",
    "\n",
    "    # affichage des resultats\n",
    "    print(f'Le nombre total des valeurs manquantes est de: {total_nan_values}')\n",
    "    print(f'La pourcentage des valeurs manquantes sur le total est de: {pourcentage_vn} %')"
   ],
   "metadata": {
    "collapsed": false
   },
   "id": "1a38c3ab183c3fdd",
   "execution_count": null
  },
  {
   "cell_type": "code",
   "outputs": [],
   "source": [
    "def label_encoder(train_data, test_data):\n",
    "    ''' encoder les colonnes qui contiennent des valeurs qualitatives\n",
    "      Args:\n",
    "         train_data: dataframe avec les valeurs de train\n",
    "         test_data: dataframe avec les valeurs de test\n",
    "         '''\n",
    "\n",
    "    le = LabelEncoder()\n",
    "    le_count = 0\n",
    "\n",
    "    # iteration dans chaque colonne\n",
    "    for col in train_data:\n",
    "        if train_data[col].dtypes == 'object':\n",
    "            if len(list(train_data[col].unique())) <= 2:\n",
    "                # Entrainement sur les donnees train\n",
    "                le.fit(train_data[col])\n",
    "                # transformer training et test\n",
    "                train_data[col] = le.transform(train_data[col])\n",
    "                test_data[col]=le.transform(test_data[col])\n",
    "\n",
    "                # comptage de nombre de colonnes modifie\n",
    "                le_count += 1\n",
    "\n",
    "    print(f'Le nombre de colonnes label encoded est de {le_count}') "
   ],
   "metadata": {
    "collapsed": false
   },
   "id": "647506abdf61232f",
   "execution_count": null
  },
  {
   "cell_type": "code",
   "outputs": [],
   "source": [
    "def days_employed(data):\n",
    "    '''Traitement des valeurs précédemment identifiées comme des anomalies dans la colonne DAYS_EMPLOYED\n",
    "     Args:\n",
    "         data: dataframe\n",
    "         '''\n",
    "    # Calcul des anomalies dans le dataset\n",
    "    anomalies = data[data['DAYS_EMPLOYED'] == 365243]\n",
    "    # Affichage des résultats\n",
    "    print(f\"Il y a {len(anomalies)} outliers dans la colonne DAYS_EMPLOYED avant traitement.\")\n",
    "    # On remplace les valeurs aberrantes par des NaN\n",
    "    data['DAYS_EMPLOYED'].replace({365243: np.nan}, inplace=True)\n",
    "    # Calcul des anomalies dans le dataset après traitement\n",
    "    anomalies_apres_traitement = data[data['DAYS_EMPLOYED'] == 365243]\n",
    "    # Contrôle\n",
    "    print(f\"Il y a {len(anomalies_apres_traitement)} outliers dans la colonne DAYS_EMPLOYED après traitement.\\n\")"
   ],
   "metadata": {
    "collapsed": false
   },
   "id": "db03eda2684cdf57",
   "execution_count": null
  },
  {
   "cell_type": "code",
   "outputs": [],
   "source": [
    "def calc_corr (data, colonne):\n",
    "    '''calcul de la correlation entre des colonnes et la colonne des target\n",
    "    Args:\n",
    "         data: dataframe\n",
    "         colonne: colonne du dataframe\n",
    "         '''\n",
    "    \n",
    "    cor_test = data[colonne].corr(train_enc['TARGET'])\n",
    "    print(f\"test de correlation de la colonne {colonne} et 'TARGET' est de {cor_test}\")"
   ],
   "metadata": {
    "collapsed": false
   },
   "id": "ce5e806bbe727ebb",
   "execution_count": null
  },
  {
   "cell_type": "code",
   "outputs": [],
   "source": [
    "def graphique_cat (data, colonne, nomfeat):\n",
    "    '''creation graphique pour les colonnes qui ont de valeurs categ, et qui vas creer une barplot avec les colonnes divisées par TARGET\n",
    "    Args: \n",
    "        data: dataframe\n",
    "        colonne: colonne du dataframe\n",
    "        nomfeat: nom du feature qui va être affiché dans le graphique\n",
    "        '''\n",
    "    \n",
    "    # Création graphique\n",
    "    fig = px.histogram(\n",
    "        data,\n",
    "        x=data[colonne] ,\n",
    "        opacity=0.7,\n",
    "        color='TARGET',\n",
    "        color_discrete_map={0: 'skyblue', 1: 'salmon'},\n",
    "        title=f'Distribution {nomfeat} divisée par TARGET'\n",
    "    )\n",
    "    # Mise à jour du layout\n",
    "    fig.update_layout(\n",
    "        xaxis_title=f'{nomfeat}',\n",
    "        yaxis_title='Frequence',\n",
    "    )\n",
    "    # Rendr plus lisible le graphique\n",
    "    fig.update_traces( opacity=0.9, marker_line=dict(color='black', width=1))\n",
    "    # Affichage de la figure\n",
    "    fig.show()"
   ],
   "metadata": {
    "collapsed": false
   },
   "id": "9fa8c0f81c35b88a",
   "execution_count": null
  },
  {
   "cell_type": "code",
   "outputs": [],
   "source": [
    "def graphique_days (data, colonne, feat):\n",
    "    '''graphique pour les colonnes qui ont des dates, et qui vas creer une barplot avec les colonnes divisées par TARGET\n",
    "    ARGS: \n",
    "        data : dataframe\n",
    "        colonne : colonne du dataframe\n",
    "        feat : feature qui va être affiché dans le graphique\n",
    "    '''\n",
    "    fig = px.histogram(\n",
    "        data,\n",
    "        x=abs(data[colonne] /  365),\n",
    "        nbins=30,\n",
    "        opacity=0.7,\n",
    "        color='TARGET',\n",
    "        color_discrete_map={0: 'skyblue', 1: 'salmon'},\n",
    "\n",
    "        title=f'Distribution des {feat} par TARGET'\n",
    "    )\n",
    "    # Mise à jour du layout\n",
    "    fig.update_layout(\n",
    "        xaxis_title=f'{feat}',\n",
    "        yaxis_title='Frequence',\n",
    "    )\n",
    "    # Rendr plus lisible le graphique\n",
    "    fig.update_traces( opacity=0.9, marker_line=dict(color='black', width=1))\n",
    "    # Affichage de la figure\n",
    "    fig.show()"
   ],
   "metadata": {
    "collapsed": false
   },
   "id": "58a1cbb351840eb2",
   "execution_count": null
  },
  {
   "cell_type": "code",
   "outputs": [],
   "source": [
    "def graph_ext(data,colonne):\n",
    "    '''Function qui affiche un graphique en rélation aux données target\n",
    "    ARG:\n",
    "        data : dataframes\n",
    "        colonne : colonne du dataframe\n",
    "    '''\n",
    "    # affichage des dettes payées\n",
    "    sns.kdeplot(data.loc[data['TARGET'] == 0, colonne], label = 'target == 0')\n",
    "    # affichage des dettes impayées\n",
    "    sns.kdeplot(data.loc[data['TARGET'] == 1, colonne], label = 'target == 1')\n",
    "\n",
    "    plt.show()"
   ],
   "metadata": {
    "collapsed": false
   },
   "id": "88cb8e54aeb48fa7",
   "execution_count": null
  },
  {
   "cell_type": "code",
   "outputs": [],
   "source": [
    "def remove_high_correlation(train_df, test_df, threshold):\n",
    "    '''Function pour supprimer les colonnes qui ont un correlation trés fortes\n",
    "    ARGS:\n",
    "        train_df : datframe train\n",
    "        test_df : dataframe test\n",
    "        threshold : pourcentage de correlation'''\n",
    "    \n",
    "    # Comptage des colonnes avant le traitement\n",
    "    num_columns_before = train_df.shape[1]\n",
    "    # Calcul de la matrice de corrélation\n",
    "    corr_train = train_df.corr()\n",
    "    # Récupération des indices des paires de colonnes avec une corrélation supérieure ou égale au seuil\n",
    "    high_corr_indices = [(i, j) for i in range(len(corr_train)) for j in range(i) if corr_train.iloc[i, j] >= threshold]\n",
    "    # Récupération des premiers éléments des paires de colonnes fortement corrélées\n",
    "    high_corr_columns = [corr_train.columns[i] for i, j in high_corr_indices]\n",
    "    # Suppression des colonnes fortement corrélées du DataFrame train_df\n",
    "    train_df.drop(columns=high_corr_columns, inplace=True)\n",
    "    # Suppression des mêmes colonnes du DataFrame test_df\n",
    "    test_df.drop(columns=high_corr_columns, inplace=True)\n",
    "    # Comptage des colonnes après le traitement\n",
    "    num_columns_after = train_df.shape[1]\n",
    "    # Affichage des colonnes supprimées\n",
    "    print(f\"Colonnes fortement corrélées supprimées : {', '.join(high_corr_columns)}\")\n",
    "    # Affichage du nombre de colonnes avant et après le traitement\n",
    "    print(f\"Nombre de colonnes avant le traitement : {num_columns_before}\")\n",
    "    print(f\"Nombre de colonnes après le traitement : {num_columns_after}\")"
   ],
   "metadata": {
    "collapsed": false
   },
   "id": "b1704120e2fc7e19",
   "execution_count": null
  },
  {
   "cell_type": "markdown",
   "source": [
    "### Import des données"
   ],
   "metadata": {
    "collapsed": false
   },
   "id": "279e0869df292842"
  },
  {
   "cell_type": "markdown",
   "source": [
    "On vas se concentrer sur le fichier ``application_train.csv`` pour commencer à effectuer l'EDA, et puis on import aussi ``application_test`` pour effectuer le mêmes modification que on vas effectuer sur le premier fichier."
   ],
   "metadata": {
    "collapsed": false
   },
   "id": "20ff6f334d35dbe2"
  },
  {
   "cell_type": "code",
   "outputs": [],
   "source": [
    "# Import des fichiers\n",
    "train = pd.read_csv(\"../data/raw/application_train.csv\")\n",
    "test = pd.read_csv(\"../data/raw/application_test.csv\")"
   ],
   "metadata": {
    "collapsed": false
   },
   "id": "e39445d392657a3e",
   "execution_count": null
  },
  {
   "cell_type": "markdown",
   "source": [
    "### Analyses générales"
   ],
   "metadata": {
    "collapsed": false
   },
   "id": "781836ff3f70de75"
  },
  {
   "cell_type": "markdown",
   "source": [
    "On vas effectuer des premières contrôles pour avoir une idée des deux df."
   ],
   "metadata": {
    "collapsed": false
   },
   "id": "e171be44aea1c255"
  },
  {
   "cell_type": "code",
   "outputs": [],
   "source": [
    "    # affichage train\n",
    "train"
   ],
   "metadata": {
    "collapsed": false
   },
   "id": "500fa2ebbe9280b6",
   "execution_count": null
  },
  {
   "cell_type": "code",
   "outputs": [],
   "source": [
    "# affichage test\n",
    "test"
   ],
   "metadata": {
    "collapsed": false
   },
   "id": "c0acb6e2f7e7adf5",
   "execution_count": null
  },
  {
   "cell_type": "code",
   "outputs": [],
   "source": [
    "# affichage des dimensions des df\n",
    "print(f'Le dataframe train contient {train.shape[0]} lignes et {train.shape[1]} colonnes')\n",
    "print(f\"Le dataframe test contient {test.shape[0]} lignes et {test.shape[1]}\")"
   ],
   "metadata": {
    "collapsed": false
   },
   "id": "1d42e1387f87b233",
   "execution_count": null
  },
  {
   "cell_type": "code",
   "outputs": [],
   "source": [
    "# controle valeurs nulles\n",
    "pourcentage_nan (train)"
   ],
   "metadata": {
    "collapsed": false
   },
   "id": "c4e572d8dbbdb004",
   "execution_count": null
  },
  {
   "cell_type": "code",
   "outputs": [],
   "source": [
    "# controle valeurs nulles\n",
    "pourcentage_nan (test)"
   ],
   "metadata": {
    "collapsed": false
   },
   "id": "333466837edac272",
   "execution_count": null
  },
  {
   "cell_type": "markdown",
   "source": [
    "On observe la présece de environ 24% des valeurs nulles dans les deux df"
   ],
   "metadata": {
    "collapsed": false
   },
   "id": "92d155d59c024db6"
  },
  {
   "cell_type": "code",
   "outputs": [],
   "source": [
    "# affichage graphique pour observer les valeurs nulles\n",
    "plot_nan(train)"
   ],
   "metadata": {
    "collapsed": false
   },
   "id": "22aa2381fc31b8b7",
   "execution_count": null
  },
  {
   "cell_type": "code",
   "outputs": [],
   "source": [
    "# affichage graphique pour observer les valeurs nulles\n",
    "plot_nan(test)"
   ],
   "metadata": {
    "collapsed": false
   },
   "id": "306915de10e22039",
   "execution_count": null
  },
  {
   "cell_type": "code",
   "outputs": [],
   "source": [
    "# drop des colonnes qui ont plus de 60% des valeurs nulles\n",
    "for columnName in train:\n",
    "    if train[columnName].isna().sum() / len(train[columnName]) > 0.6:\n",
    "        train.drop(columnName, axis=1, inplace=True)"
   ],
   "metadata": {
    "collapsed": false
   },
   "id": "76a104a5f7c59380",
   "execution_count": null
  },
  {
   "cell_type": "code",
   "outputs": [],
   "source": [
    "# drop des colonnes avec plus de 60 % des valeurs nulles\n",
    "for columnName in test:\n",
    "    if test[columnName].isna().sum() / len(test[columnName]) > 0.6:\n",
    "        test.drop(columnName, axis=1, inplace=True)"
   ],
   "metadata": {
    "collapsed": false
   },
   "id": "7534de030b8452bf",
   "execution_count": null
  },
  {
   "cell_type": "code",
   "outputs": [],
   "source": [
    "# controle des types\n",
    "train.dtypes.value_counts()"
   ],
   "metadata": {
    "collapsed": false
   },
   "id": "6eaef24e3795ccba",
   "execution_count": null
  },
  {
   "cell_type": "code",
   "outputs": [],
   "source": [
    "# nombre des valeurs positifs et negatifs dans la colonne target\n",
    "train['TARGET'].value_counts()"
   ],
   "metadata": {
    "collapsed": false
   },
   "id": "e4755a5fb613a019",
   "execution_count": null
  },
  {
   "cell_type": "code",
   "outputs": [],
   "source": [
    "# graphique valeurs TARGET\n",
    "fig = px.histogram(train, x='TARGET', title='Histogram des valeurs TARGET')\n",
    "fig.update_xaxes(title_text='Valeurs')\n",
    "fig.update_yaxes(title_text='Frequence')\n",
    "\n",
    "# on rend le graphique plus lisible\n",
    "fig.update_layout(bargap=0.1)\n",
    "fig.update_traces(marker_color='skyblue', opacity=0.7, marker_line=dict(color='blue', width=1))\n",
    "\n",
    "# affichage\n",
    "fig.show()\n",
    "fig.write_image(\"../Results/histogram_target.png\")"
   ],
   "metadata": {
    "collapsed": false
   },
   "id": "2398211a87c7594d",
   "execution_count": null
  },
  {
   "cell_type": "markdown",
   "source": [
    "On oberve que la majorité des valeurs contenu dans la variable ''TARGET'' sont des 0, donc en géneral la majorité des clients tend a payer leur debts."
   ],
   "metadata": {
    "collapsed": false
   },
   "id": "16f97672a72a85c1"
  },
  {
   "cell_type": "markdown",
   "source": [
    "### Traitement des données et encodage"
   ],
   "metadata": {
    "collapsed": false
   },
   "id": "73e29c9fa4519536"
  },
  {
   "cell_type": "code",
   "outputs": [],
   "source": [
    "# affichage des colonnes de type object\n",
    "train.dtypes.value_counts()"
   ],
   "metadata": {
    "collapsed": false
   },
   "id": "6ccbacd188c67fdb",
   "execution_count": null
  },
  {
   "cell_type": "code",
   "outputs": [],
   "source": [
    "# affichage des colonnes de type object\n",
    "show_type(train, object)"
   ],
   "metadata": {
    "collapsed": false
   },
   "id": "2594538cd3b560e3",
   "execution_count": null
  },
  {
   "cell_type": "code",
   "outputs": [],
   "source": [
    "#encodage donnes avec 2 categories\n",
    "label_encoder(train, test)"
   ],
   "metadata": {
    "collapsed": false
   },
   "id": "19172c88b9c228c3",
   "execution_count": null
  },
  {
   "cell_type": "code",
   "outputs": [],
   "source": [
    "# one-hot encoding variables categorielles\n",
    "train_enc = pd.get_dummies(train)\n",
    "test_enc = pd.get_dummies(test)"
   ],
   "metadata": {
    "collapsed": false
   },
   "id": "f3e3eb6de8405a09",
   "execution_count": null
  },
  {
   "cell_type": "code",
   "outputs": [],
   "source": [
    "# Sélectionnez la colonne TARGET du df_TRAIN\n",
    "train_labels = train_enc['TARGET']"
   ],
   "metadata": {
    "collapsed": false
   },
   "id": "10da4af6135df724",
   "execution_count": null
  },
  {
   "cell_type": "code",
   "outputs": [],
   "source": [
    "# Alignement des données d'entraînement et de test et stockage des colonnes présentes dans le deux df\n",
    "train_enc, test_enc = train_enc.align(test_enc, join = 'inner', axis = 1)"
   ],
   "metadata": {
    "collapsed": false
   },
   "id": "31b37c11c9ccdda7",
   "execution_count": null
  },
  {
   "cell_type": "code",
   "outputs": [],
   "source": [
    "# Ajout de la colonne TARGET à nouveaux\n",
    "train_enc['TARGET'] = train_labels\n"
   ],
   "metadata": {
    "collapsed": false
   },
   "id": "95a1099d54e75bca",
   "execution_count": null
  },
  {
   "cell_type": "code",
   "outputs": [],
   "source": [
    "# affichage des dimensions des deux df\n",
    "print('Dimension du train encodé: ', train_enc.shape)\n",
    "print('Dimension du test encodé: ', test_enc.shape)"
   ],
   "metadata": {
    "collapsed": false
   },
   "id": "49167b0fcfb24d4",
   "execution_count": null
  },
  {
   "cell_type": "code",
   "outputs": [],
   "source": [
    "# sauvegarde de df\n",
    "train_enc.to_csv('../Data/Processed/train_enc.csv', index=False)\n",
    "test_enc.to_csv('../Data/Processed/test_enc.csv', index=False)"
   ],
   "metadata": {
    "collapsed": false
   },
   "id": "a4a424676fa95c5c",
   "execution_count": null
  },
  {
   "cell_type": "markdown",
   "source": [
    "### Traitement des outliers"
   ],
   "metadata": {
    "collapsed": false
   },
   "id": "371ef33fcc5b358"
  },
  {
   "cell_type": "code",
   "outputs": [],
   "source": [
    "# on affiche une describe en transformant les valeurs dans la colonne en années pour les rendre plus lisibles\n",
    "(train_enc['DAYS_BIRTH'] / - 365).describe()"
   ],
   "metadata": {
    "collapsed": false
   },
   "id": "17b58f5547a782b4",
   "execution_count": null
  },
  {
   "cell_type": "code",
   "outputs": [],
   "source": [
    "# création histogram pour montrer la distribution de l'age\n",
    "fig = px.histogram(train, x=test['DAYS_BIRTH'] / -365, nbins=30, title='Âge du client')\n",
    "fig.update_layout(xaxis_title='Age', yaxis_title='Count')\n",
    "\n",
    "fig.update_layout(bargap=0.1)\n",
    "fig.update_traces(marker_color='skyblue', opacity=0.7, marker_line=dict(color='blue', width=0.5))\n",
    "\n",
    "\n",
    "# affichage du graphique\n",
    "fig.show()\n",
    "fig.write_image('../Results/Histogram_age.png')"
   ],
   "metadata": {
    "collapsed": false
   },
   "id": "3754fc6fd0cd4261",
   "execution_count": null
  },
  {
   "cell_type": "code",
   "outputs": [],
   "source": [
    "# on effectue le même controle sur la colonne DAYS_EMPLOYED\n",
    "train_enc[\"DAYS_EMPLOYED\"].describe()"
   ],
   "metadata": {
    "collapsed": false
   },
   "id": "5c9607dc8919ab0c",
   "execution_count": null
  },
  {
   "cell_type": "markdown",
   "source": [
    "Le max, representé par 365243 est un valeur aberrante parceque en le divisant par 365 on trouve 1000 années, que on vas traiter avec la fonction days_employed"
   ],
   "metadata": {
    "collapsed": false
   },
   "id": "d2a546585c7015a3"
  },
  {
   "cell_type": "code",
   "outputs": [],
   "source": [
    "days_employed(train_enc)\n",
    "days_employed(test_enc)\n",
    "days_employed(train)\n",
    "days_employed(test)"
   ],
   "metadata": {
    "collapsed": false
   },
   "id": "612fb0115c56c536",
   "execution_count": null
  },
  {
   "cell_type": "code",
   "outputs": [],
   "source": [
    "# création histogram pour montrer la distribution de jours pour payer les debts\n",
    "fig = px.histogram(train_enc, x=train_enc['DAYS_EMPLOYED'] / -365, nbins=30, title='annes pour payer une dettes')\n",
    "fig.update_layout(xaxis_title='Années', yaxis_title='Count')\n",
    "\n",
    "# update pour rendre le graphique plus lisible\n",
    "fig.update_layout(bargap=0.1)\n",
    "fig.update_traces(marker_color='skyblue', opacity=0.7, marker_line=dict(color='blue', width=0.5))\n",
    "\n",
    "\n",
    "# affichage du graphique\n",
    "fig.show()\n",
    "fig.write_image('../Results/anne_payement_dettess.png')"
   ],
   "metadata": {
    "collapsed": false
   },
   "id": "b4c75ac937e384d9",
   "execution_count": null
  },
  {
   "cell_type": "markdown",
   "source": [
    "Nous notons qu'en général, la majorité des clients prend environ un à deux ans pour régler leurs dettes"
   ],
   "metadata": {
    "collapsed": false
   },
   "id": "434e6d4936d46a9e"
  },
  {
   "cell_type": "markdown",
   "source": [
    "### Analyse correlations"
   ],
   "metadata": {
    "collapsed": false
   },
   "id": "e60dc4500010fb9b"
  },
  {
   "cell_type": "code",
   "outputs": [],
   "source": [
    "# recherche des correlation \n",
    "correlations = train_enc.corr()['TARGET'].sort_values()"
   ],
   "metadata": {
    "collapsed": false
   },
   "id": "a4057e60cbc0c865",
   "execution_count": null
  },
  {
   "cell_type": "code",
   "outputs": [],
   "source": [
    "# affichage correlations positives\n",
    "print('Correlation plus positives:\\n', correlations.tail(10))"
   ],
   "metadata": {
    "collapsed": false
   },
   "id": "4bb38f052db6d3fb",
   "execution_count": null
  },
  {
   "cell_type": "markdown",
   "source": [
    "On observe des correlations interessantes avec ```DAYS_BIRTH```, ```DAYS_EMPLOYED``` et ```REGION_RATING_CLIENT_W_CITY```"
   ],
   "metadata": {
    "collapsed": false
   },
   "id": "7f6e3a51d910a046"
  },
  {
   "cell_type": "code",
   "outputs": [],
   "source": [
    "# affichage correlations negatives\n",
    "print('\\nCorrelations plus negatives:\\n', correlations.head(10))"
   ],
   "metadata": {
    "collapsed": false
   },
   "id": "1e2e464cbdff76df",
   "execution_count": null
  },
  {
   "cell_type": "markdown",
   "source": [
    "On observe un correlation interessante avec les ```EXT_SOURCE_n```"
   ],
   "metadata": {
    "collapsed": false
   },
   "id": "ed04dd99575c4d40"
  },
  {
   "cell_type": "code",
   "outputs": [],
   "source": [
    "# preparation données pour matrice des correlation\n",
    "ext_data = train_enc[['TARGET', 'DAYS_BIRTH', 'DAYS_EMPLOYED', 'REGION_RATING_CLIENT_W_CITY', 'EXT_SOURCE_1', 'EXT_SOURCE_2', 'EXT_SOURCE_3']]\n",
    "ext_data_corrs = ext_data.corr()"
   ],
   "metadata": {
    "collapsed": false
   },
   "id": "9e8d717cb8ae2ad8",
   "execution_count": null
  },
  {
   "cell_type": "code",
   "outputs": [],
   "source": [
    "# Heatmap des correlations\n",
    "plt.figure(figsize = (8, 6))\n",
    "sns.heatmap(ext_data_corrs, annot = True,cmap='BrBG', vmax = 0.6)\n",
    "plt.title('Correlation Heatmap');\n",
    "plt.savefig('../Results/heatmap_correlation_1.png')   "
   ],
   "metadata": {
    "collapsed": false
   },
   "id": "5562adbef95b7a6c",
   "execution_count": null
  },
  {
   "cell_type": "code",
   "outputs": [],
   "source": [
    "# creation graphique\n",
    "calc_corr(train, 'DAYS_BIRTH')\n",
    "graphique_days(train,'DAYS_BIRTH','Age')\n",
    "fig.write_image('../Results/distribution_age_target.png')"
   ],
   "metadata": {
    "collapsed": false
   },
   "id": "ea5885b056f3aa02",
   "execution_count": null
  },
  {
   "cell_type": "markdown",
   "source": [
    "On observe ici comment les distribution des dettes sont plutot biens distrubuées entre 20 e 60 ans, mais en général on voit que il y a beaucoup des impayée autour des 30 ans."
   ],
   "metadata": {
    "collapsed": false
   },
   "id": "eb2cdfd9b502dad4"
  },
  {
   "cell_type": "code",
   "outputs": [],
   "source": [
    "# creation graphique\n",
    "calc_corr(train, 'DAYS_EMPLOYED')\n",
    "graphique_days(train, 'DAYS_EMPLOYED', 'Années')\n",
    "fig.write_image('../Results/distribution_anne_target_1.png')"
   ],
   "metadata": {
    "collapsed": false
   },
   "id": "11a068aa352b1f64",
   "execution_count": null
  },
  {
   "cell_type": "markdown",
   "source": [
    "La majoritées des dettes est payée entre 1 et 2 années et on observe aussi un concetration des impayées entre le deuxieme et le troisieme année"
   ],
   "metadata": {
    "collapsed": false
   },
   "id": "ab3b3893d90ba1a2"
  },
  {
   "cell_type": "code",
   "outputs": [],
   "source": [
    "# creation graphique\n",
    "calc_corr(train_enc, 'REGION_RATING_CLIENT_W_CITY')\n",
    "graphique_cat(train_enc,'REGION_RATING_CLIENT_W_CITY','note_de_la_region')\n",
    "fig.write_image('../Results/distribution_not_reg_t.png')"
   ],
   "metadata": {
    "collapsed": false
   },
   "id": "3a15d86bad13cef5",
   "execution_count": null
  },
  {
   "cell_type": "markdown",
   "source": [
    "La majorité des credits son't concentrées dans les regions que sont notée 2."
   ],
   "metadata": {
    "collapsed": false
   },
   "id": "76f166b5170d2c6c"
  },
  {
   "cell_type": "code",
   "outputs": [],
   "source": [
    "# creation graphique\n",
    "graphique_cat(train,'CODE_GENDER',('Genre'))\n",
    "fig.write_image('../Results/distribution_t_gen.png')"
   ],
   "metadata": {
    "collapsed": false
   },
   "id": "74109215e3f39756",
   "execution_count": null
  },
  {
   "cell_type": "markdown",
   "source": [
    "En general, on observe qu'il y a plus femmes que hommes dans la distribution des TARGET du df."
   ],
   "metadata": {
    "collapsed": false
   },
   "id": "ac01821f2b17f097"
  },
  {
   "cell_type": "code",
   "outputs": [],
   "source": [
    "# creation graphique\n",
    "calc_corr(train, 'EXT_SOURCE_3')\n",
    "graph_ext(train, 'EXT_SOURCE_3')\n",
    "plt.savefig('../Results/ext_s_3_tar.png')"
   ],
   "metadata": {
    "collapsed": false
   },
   "id": "e75659930d75a010",
   "execution_count": null
  },
  {
   "cell_type": "code",
   "outputs": [],
   "source": [
    "# creation graphique\n",
    "calc_corr(train, 'EXT_SOURCE_2')\n",
    "graph_ext(train, 'EXT_SOURCE_2')\n",
    "plt.savefig('../Results/ext_s_2_tar.png')"
   ],
   "metadata": {
    "collapsed": false
   },
   "id": "f907c8ac567141b4",
   "execution_count": null
  },
  {
   "cell_type": "code",
   "outputs": [],
   "source": [
    "# creation graphique\n",
    "calc_corr(train, 'EXT_SOURCE_1')\n",
    "graph_ext(train, 'EXT_SOURCE_1')\n",
    "plt.savefig('../Results/ext_s_1_tar.png')"
   ],
   "metadata": {
    "collapsed": false
   },
   "id": "fb2064972defe8d1",
   "execution_count": null
  },
  {
   "cell_type": "code",
   "outputs": [],
   "source": [
    "# creation graphique\n",
    "graphique_cat(train,'NAME_EDUCATION_TYPE',('niveaux_education'))\n",
    "fig.write_image('../Results/distr_niv_instr.png')"
   ],
   "metadata": {
    "collapsed": false
   },
   "id": "8eceee9ef789f02e",
   "execution_count": null
  },
  {
   "cell_type": "markdown",
   "source": [
    "On voit ici, que ceux qui sont arrivées au niveaux secondary, ont la tendance a demander plus des dettes par rapport aux autres."
   ],
   "metadata": {
    "collapsed": false
   },
   "id": "d438e7f13de16427"
  },
  {
   "cell_type": "code",
   "outputs": [],
   "source": [
    "# creation graphique\n",
    "graphique_cat(train,'NAME_INCOME_TYPE','Poste_travail')\n",
    "fig.write_image('../Results/distr_trav_1.png')"
   ],
   "metadata": {
    "collapsed": false
   },
   "id": "5d61cc3f3f26e582",
   "execution_count": null
  },
  {
   "cell_type": "markdown",
   "source": [
    "Ceux qui font partie de la categorie ``working`` ont la tendance a faire plus de detts par rapport aux autres categories, on peut immaginer que celle ci est un categorie plus generale, qui comprend plusieurs categories des professionnels."
   ],
   "metadata": {
    "collapsed": false
   },
   "id": "a948047316004aee"
  },
  {
   "cell_type": "markdown",
   "source": [
    "### Creation nouvelles variables"
   ],
   "metadata": {
    "collapsed": false
   },
   "id": "c5a84d1f0526910a"
  },
  {
   "cell_type": "code",
   "outputs": [],
   "source": [
    "# creation nouveaux variables\n",
    "df_train = train_enc.copy()\n",
    "df_test = test_enc.copy()\n",
    "df_train_nv = train_enc.copy()\n",
    "df_test_nv = test_enc.copy()"
   ],
   "metadata": {
    "collapsed": false
   },
   "id": "62b3f5873ef6e78d",
   "execution_count": null
  },
  {
   "cell_type": "code",
   "outputs": [],
   "source": [
    "# Calcul du pourcentage crédit sur revenu\n",
    "df_train_nv['CREDIT_INCOME_PERCENT'] = train_enc['AMT_CREDIT'] / train_enc['AMT_INCOME_TOTAL']\n",
    "# Calcul du pourcentage annuité sur revenu\n",
    "df_train_nv['ANNUITY_INCOME_PERCENT'] = train_enc['AMT_ANNUITY'] / train_enc['AMT_INCOME_TOTAL']\n",
    "# Calcul de la durée du crédit\n",
    "df_train_nv['CREDIT_TERM'] = train_enc['AMT_ANNUITY'] / train_enc['AMT_CREDIT']\n",
    "# Calcul du pourcentage jours employé sur jours de naissance\n",
    "df_train_nv['DAYS_EMPLOYED_PERCENT'] = train_enc['DAYS_EMPLOYED'] / train_enc['DAYS_BIRTH']"
   ],
   "metadata": {
    "collapsed": false
   },
   "id": "3a6193fa546f735e",
   "execution_count": null
  },
  {
   "cell_type": "code",
   "outputs": [],
   "source": [
    "# Calcul du pourcentage crédit sur revenu\n",
    "df_test_nv['CREDIT_INCOME_PERCENT'] = train_enc['AMT_CREDIT'] / train_enc['AMT_INCOME_TOTAL']\n",
    "# Calcul du pourcentage annuité sur revenu\n",
    "df_test_nv['ANNUITY_INCOME_PERCENT'] = train_enc['AMT_ANNUITY'] / train_enc['AMT_INCOME_TOTAL']\n",
    "# Calcul de la durée du crédit\n",
    "df_test_nv['CREDIT_TERM'] = train_enc['AMT_ANNUITY'] / train_enc['AMT_CREDIT']\n",
    "# Calcul du pourcentage jours employé sur jours de naissance\n",
    "df_test_nv['DAYS_EMPLOYED_PERCENT'] = train_enc['DAYS_EMPLOYED'] / train_enc['DAYS_BIRTH']"
   ],
   "metadata": {
    "collapsed": false
   },
   "id": "984ed763e46a1725",
   "execution_count": null
  },
  {
   "cell_type": "markdown",
   "source": [
    "### Supprimer corrélation "
   ],
   "metadata": {
    "collapsed": false
   },
   "id": "a8bddbb2f1a88944"
  },
  {
   "cell_type": "code",
   "outputs": [],
   "source": [
    "# supprimer les colonnes qui ont une fort correlation entre eux\n",
    "remove_high_correlation(df_train, df_test, 0.9)"
   ],
   "metadata": {
    "collapsed": false
   },
   "id": "2c44c29ea2244be9",
   "execution_count": null
  },
  {
   "cell_type": "markdown",
   "source": [
    "### Sauvegarde des Dataframes"
   ],
   "metadata": {
    "collapsed": false
   },
   "id": "879be7610b819a9b"
  },
  {
   "cell_type": "code",
   "outputs": [],
   "source": [
    "# sauvegarde train\n",
    "df_train.to_csv('../Data/Processed/df_train.csv', index=False)\n",
    "df_train_nv.to_csv('../Data/Processed/df_train_nv.csv', index=False)"
   ],
   "metadata": {
    "collapsed": false
   },
   "id": "fbcd60995929a855",
   "execution_count": null
  },
  {
   "cell_type": "code",
   "outputs": [],
   "source": [
    "# sauvegarde test\n",
    "df_test.to_csv('../Data/Processed/df_test.csv', index=False)\n",
    "df_test_nv.to_csv('../Data/Processed/df_test_nv.csv', index=False)"
   ],
   "metadata": {
    "collapsed": false
   },
   "id": "d4df9f762feddeb5",
   "execution_count": null
  }
 ],
 "metadata": {
  "kernelspec": {
   "display_name": "Python 3",
   "language": "python",
   "name": "python3"
  },
  "language_info": {
   "codemirror_mode": {
    "name": "ipython",
    "version": 2
   },
   "file_extension": ".py",
   "mimetype": "text/x-python",
   "name": "python",
   "nbconvert_exporter": "python",
   "pygments_lexer": "ipython2",
   "version": "2.7.6"
  }
 },
 "nbformat": 4,
 "nbformat_minor": 5
}
